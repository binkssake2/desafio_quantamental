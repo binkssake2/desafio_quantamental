{
 "cells": [
  {
   "cell_type": "code",
   "execution_count": 18,
   "metadata": {},
   "outputs": [],
   "source": [
    "import quandl\n",
    "import pandas as pd\n",
    "import quandl as q\n",
    "import numpy as np\n",
    "import matplotlib.pyplot as plt\n",
    "quandl.ApiConfig.api_key = \"-qMZRw2S5XascrrTLjF4\""
   ]
  },
  {
   "cell_type": "code",
   "execution_count": 19,
   "metadata": {},
   "outputs": [
    {
     "data": {
      "text/html": [
       "<div>\n",
       "<style scoped>\n",
       "    .dataframe tbody tr th:only-of-type {\n",
       "        vertical-align: middle;\n",
       "    }\n",
       "\n",
       "    .dataframe tbody tr th {\n",
       "        vertical-align: top;\n",
       "    }\n",
       "\n",
       "    .dataframe thead th {\n",
       "        text-align: right;\n",
       "    }\n",
       "</style>\n",
       "<table border=\"1\" class=\"dataframe\">\n",
       "  <thead>\n",
       "    <tr style=\"text-align: right;\">\n",
       "      <th></th>\n",
       "      <th>Open</th>\n",
       "      <th>High</th>\n",
       "      <th>Low</th>\n",
       "      <th>Close</th>\n",
       "      <th>Volume</th>\n",
       "      <th>Dividend</th>\n",
       "      <th>Split</th>\n",
       "      <th>Adj_Open</th>\n",
       "      <th>Adj_High</th>\n",
       "      <th>Adj_Low</th>\n",
       "      <th>Adj_Close</th>\n",
       "      <th>Adj_Volume</th>\n",
       "    </tr>\n",
       "    <tr>\n",
       "      <th>Date</th>\n",
       "      <th></th>\n",
       "      <th></th>\n",
       "      <th></th>\n",
       "      <th></th>\n",
       "      <th></th>\n",
       "      <th></th>\n",
       "      <th></th>\n",
       "      <th></th>\n",
       "      <th></th>\n",
       "      <th></th>\n",
       "      <th></th>\n",
       "      <th></th>\n",
       "    </tr>\n",
       "  </thead>\n",
       "  <tbody>\n",
       "    <tr>\n",
       "      <th>2013-09-03</th>\n",
       "      <td>31.7500</td>\n",
       "      <td>32.07</td>\n",
       "      <td>31.29</td>\n",
       "      <td>31.880</td>\n",
       "      <td>154507000.0</td>\n",
       "      <td>0.0</td>\n",
       "      <td>1.0</td>\n",
       "      <td>27.484005</td>\n",
       "      <td>27.761009</td>\n",
       "      <td>27.085812</td>\n",
       "      <td>27.596538</td>\n",
       "      <td>154507000.0</td>\n",
       "    </tr>\n",
       "    <tr>\n",
       "      <th>2013-09-04</th>\n",
       "      <td>31.3900</td>\n",
       "      <td>31.47</td>\n",
       "      <td>31.11</td>\n",
       "      <td>31.195</td>\n",
       "      <td>142320600.0</td>\n",
       "      <td>0.0</td>\n",
       "      <td>1.0</td>\n",
       "      <td>27.172375</td>\n",
       "      <td>27.241626</td>\n",
       "      <td>26.929997</td>\n",
       "      <td>27.003576</td>\n",
       "      <td>142320600.0</td>\n",
       "    </tr>\n",
       "    <tr>\n",
       "      <th>2013-09-05</th>\n",
       "      <td>31.1000</td>\n",
       "      <td>31.44</td>\n",
       "      <td>30.95</td>\n",
       "      <td>31.235</td>\n",
       "      <td>71644900.0</td>\n",
       "      <td>0.0</td>\n",
       "      <td>1.0</td>\n",
       "      <td>26.921340</td>\n",
       "      <td>27.215657</td>\n",
       "      <td>26.791495</td>\n",
       "      <td>27.038201</td>\n",
       "      <td>71644900.0</td>\n",
       "    </tr>\n",
       "    <tr>\n",
       "      <th>2013-09-06</th>\n",
       "      <td>31.3100</td>\n",
       "      <td>31.39</td>\n",
       "      <td>31.13</td>\n",
       "      <td>31.152</td>\n",
       "      <td>75434900.0</td>\n",
       "      <td>0.0</td>\n",
       "      <td>1.0</td>\n",
       "      <td>27.103124</td>\n",
       "      <td>27.172375</td>\n",
       "      <td>26.947309</td>\n",
       "      <td>26.966354</td>\n",
       "      <td>75434900.0</td>\n",
       "    </tr>\n",
       "    <tr>\n",
       "      <th>2013-09-09</th>\n",
       "      <td>31.2208</td>\n",
       "      <td>31.79</td>\n",
       "      <td>31.20</td>\n",
       "      <td>31.655</td>\n",
       "      <td>49628500.0</td>\n",
       "      <td>0.0</td>\n",
       "      <td>1.0</td>\n",
       "      <td>27.025909</td>\n",
       "      <td>27.518631</td>\n",
       "      <td>27.007904</td>\n",
       "      <td>27.401769</td>\n",
       "      <td>49628500.0</td>\n",
       "    </tr>\n",
       "  </tbody>\n",
       "</table>\n",
       "</div>"
      ],
      "text/plain": [
       "               Open   High    Low   Close       Volume  Dividend  Split  \\\n",
       "Date                                                                      \n",
       "2013-09-03  31.7500  32.07  31.29  31.880  154507000.0       0.0    1.0   \n",
       "2013-09-04  31.3900  31.47  31.11  31.195  142320600.0       0.0    1.0   \n",
       "2013-09-05  31.1000  31.44  30.95  31.235   71644900.0       0.0    1.0   \n",
       "2013-09-06  31.3100  31.39  31.13  31.152   75434900.0       0.0    1.0   \n",
       "2013-09-09  31.2208  31.79  31.20  31.655   49628500.0       0.0    1.0   \n",
       "\n",
       "             Adj_Open   Adj_High    Adj_Low  Adj_Close   Adj_Volume  \n",
       "Date                                                                 \n",
       "2013-09-03  27.484005  27.761009  27.085812  27.596538  154507000.0  \n",
       "2013-09-04  27.172375  27.241626  26.929997  27.003576  142320600.0  \n",
       "2013-09-05  26.921340  27.215657  26.791495  27.038201   71644900.0  \n",
       "2013-09-06  27.103124  27.172375  26.947309  26.966354   75434900.0  \n",
       "2013-09-09  27.025909  27.518631  27.007904  27.401769   49628500.0  "
      ]
     },
     "execution_count": 19,
     "metadata": {},
     "output_type": "execute_result"
    }
   ],
   "source": [
    "#pega os dados da API\n",
    "msft_data = q.get(\"EOD/MSFT\", start_date=\"2010-01-01\", end_date=\"2020-01-01\")\n",
    "msft_data.head()"
   ]
  },
  {
   "cell_type": "code",
   "execution_count": 20,
   "metadata": {
    "scrolled": true
   },
   "outputs": [
    {
     "name": "stdout",
     "output_type": "stream",
     "text": [
      "            Adj_Close\n",
      "Date                 \n",
      "2013-09-03   0.000000\n",
      "2013-09-04  -0.021487\n",
      "2013-09-05   0.001282\n",
      "2013-09-06  -0.002657\n",
      "2013-09-09   0.016147\n",
      "...               ...\n",
      "2017-12-21  -0.000234\n",
      "2017-12-22   0.000117\n",
      "2017-12-26  -0.001286\n",
      "2017-12-27   0.003630\n",
      "2017-12-28   0.000117\n",
      "\n",
      "[1090 rows x 1 columns]\n"
     ]
    }
   ],
   "source": [
    "#retorno diário\n",
    "# chama `Adj Close` para `daily_close`\n",
    "daily_close = msft_data[['Adj_Close']]\n",
    "\n",
    "# retorna a fracao\n",
    "daily_return = daily_close.pct_change()\n",
    "\n",
    "# replaca de NA por 0\n",
    "daily_return.fillna(0, inplace=True)\n",
    "\n",
    "print(daily_return)"
   ]
  },
  {
   "cell_type": "code",
   "execution_count": 28,
   "metadata": {},
   "outputs": [],
   "source": [
    "#media movel 7 dias\n",
    "adj_price = msft_data['Adj_Close']\n",
    "mav = adj_price.rolling(window=15).mean()"
   ]
  },
  {
   "cell_type": "code",
   "execution_count": 139,
   "metadata": {},
   "outputs": [
    {
     "name": "stdout",
     "output_type": "stream",
     "text": [
      "Date\n",
      "2017-12-14    80.982311\n",
      "2017-12-15    81.213647\n",
      "2017-12-18    81.375389\n",
      "2017-12-19    81.436606\n",
      "2017-12-20    81.577083\n",
      "2017-12-21    81.662786\n",
      "2017-12-22    81.743335\n",
      "2017-12-26    82.021711\n",
      "2017-12-27    82.287199\n",
      "2017-12-28    82.476650\n",
      "Name: Adj_Close, dtype: float64\n"
     ]
    },
    {
     "data": {
      "text/plain": [
       "<matplotlib.axes._subplots.AxesSubplot at 0x1b6423e1a20>"
      ]
     },
     "execution_count": 139,
     "metadata": {},
     "output_type": "execute_result"
    },
    {
     "data": {
      "image/png": "[encoded data removed]",
      "text/plain": [
       "<Figure size 432x288 with 1 Axes>"
      ]
     },
     "metadata": {
      "needs_background": "light"
     },
     "output_type": "display_data"
    }
   ],
   "source": [
    "# print mav\n",
    "print(mav[-10:])\n",
    "adj_price.plot()\n",
    "mav.plot()"
   ]
  },
  {
   "cell_type": "code",
   "execution_count": 155,
   "metadata": {},
   "outputs": [],
   "source": [
    "from sklearn.model_selection import train_test_split\n",
    "from sklearn.model_selection import cross_val_score\n",
    "from sklearn.model_selection import KFold\n",
    "from sklearn.metrics import classification_report\n",
    "from sklearn.metrics import confusion_matrix\n",
    "from sklearn.metrics import accuracy_score\n",
    "from sklearn.linear_model import LinearRegression"
   ]
  },
  {
   "cell_type": "code",
   "execution_count": 152,
   "metadata": {},
   "outputs": [],
   "source": [
    "# Separa para treinamento e validação os dados\n",
    "array = msft_data.values\n",
    "X = array[:,[0,1,3,4]]\n",
    "y = array[:,3]\n",
    "X_train, X_validation, Y_train, Y_validation = train_test_split(X, y, test_size=0.20, random_state=1)"
   ]
  },
  {
   "cell_type": "code",
   "execution_count": 166,
   "metadata": {},
   "outputs": [
    {
     "ename": "TypeError",
     "evalue": "Cannot clone object. You should provide an instance of scikit-learn estimator instead of a class.",
     "output_type": "error",
     "traceback": [
      "\u001b[1;31m---------------------------------------------------------------------------\u001b[0m",
      "\u001b[1;31mEmpty\u001b[0m                                     Traceback (most recent call last)",
      "\u001b[1;32mc:\\users\\binks\\desktop\\quantamental\\quantenv\\lib\\site-packages\\joblib\\parallel.py\u001b[0m in \u001b[0;36mdispatch_one_batch\u001b[1;34m(self, iterator)\u001b[0m\n\u001b[0;32m    807\u001b[0m             \u001b[1;32mtry\u001b[0m\u001b[1;33m:\u001b[0m\u001b[1;33m\u001b[0m\u001b[0m\n\u001b[1;32m--> 808\u001b[1;33m                 \u001b[0mtasks\u001b[0m \u001b[1;33m=\u001b[0m \u001b[0mself\u001b[0m\u001b[1;33m.\u001b[0m\u001b[0m_ready_batches\u001b[0m\u001b[1;33m.\u001b[0m\u001b[0mget\u001b[0m\u001b[1;33m(\u001b[0m\u001b[0mblock\u001b[0m\u001b[1;33m=\u001b[0m\u001b[1;32mFalse\u001b[0m\u001b[1;33m)\u001b[0m\u001b[1;33m\u001b[0m\u001b[0m\n\u001b[0m\u001b[0;32m    809\u001b[0m             \u001b[1;32mexcept\u001b[0m \u001b[0mqueue\u001b[0m\u001b[1;33m.\u001b[0m\u001b[0mEmpty\u001b[0m\u001b[1;33m:\u001b[0m\u001b[1;33m\u001b[0m\u001b[0m\n",
      "\u001b[1;32mc:\\users\\binks\\appdata\\local\\programs\\python\\python37\\lib\\queue.py\u001b[0m in \u001b[0;36mget\u001b[1;34m(self, block, timeout)\u001b[0m\n\u001b[0;32m    166\u001b[0m                 \u001b[1;32mif\u001b[0m \u001b[1;32mnot\u001b[0m \u001b[0mself\u001b[0m\u001b[1;33m.\u001b[0m\u001b[0m_qsize\u001b[0m\u001b[1;33m(\u001b[0m\u001b[1;33m)\u001b[0m\u001b[1;33m:\u001b[0m\u001b[1;33m\u001b[0m\u001b[0m\n\u001b[1;32m--> 167\u001b[1;33m                     \u001b[1;32mraise\u001b[0m \u001b[0mEmpty\u001b[0m\u001b[1;33m\u001b[0m\u001b[0m\n\u001b[0m\u001b[0;32m    168\u001b[0m             \u001b[1;32melif\u001b[0m \u001b[0mtimeout\u001b[0m \u001b[1;32mis\u001b[0m \u001b[1;32mNone\u001b[0m\u001b[1;33m:\u001b[0m\u001b[1;33m\u001b[0m\u001b[0m\n",
      "\u001b[1;31mEmpty\u001b[0m: ",
      "\nDuring handling of the above exception, another exception occurred:\n",
      "\u001b[1;31mTypeError\u001b[0m                                 Traceback (most recent call last)",
      "\u001b[1;32m<ipython-input-166-fb92948479da>\u001b[0m in \u001b[0;36m<module>\u001b[1;34m\u001b[0m\n\u001b[0;32m      6\u001b[0m \u001b[0mk_fold\u001b[0m \u001b[1;33m=\u001b[0m \u001b[0mKFold\u001b[0m\u001b[1;33m(\u001b[0m\u001b[0mn_splits\u001b[0m\u001b[1;33m=\u001b[0m\u001b[1;36m10\u001b[0m\u001b[1;33m)\u001b[0m\u001b[1;33m\u001b[0m\u001b[0m\n\u001b[0;32m      7\u001b[0m \u001b[1;32mfor\u001b[0m \u001b[0mname\u001b[0m\u001b[1;33m,\u001b[0m \u001b[0mmodel\u001b[0m \u001b[1;32min\u001b[0m \u001b[0mmodels\u001b[0m\u001b[1;33m:\u001b[0m\u001b[1;33m\u001b[0m\u001b[0m\n\u001b[1;32m----> 8\u001b[1;33m         \u001b[0mcv_results\u001b[0m \u001b[1;33m=\u001b[0m \u001b[0mcross_val_score\u001b[0m\u001b[1;33m(\u001b[0m\u001b[0mmodel\u001b[0m\u001b[1;33m,\u001b[0m \u001b[0mX_train\u001b[0m\u001b[1;33m,\u001b[0m \u001b[0mY_train\u001b[0m\u001b[1;33m,\u001b[0m \u001b[0mcv\u001b[0m\u001b[1;33m=\u001b[0m\u001b[0mk_fold\u001b[0m\u001b[1;33m)\u001b[0m\u001b[1;33m\u001b[0m\u001b[0m\n\u001b[0m\u001b[0;32m      9\u001b[0m         \u001b[0mresults\u001b[0m\u001b[1;33m.\u001b[0m\u001b[0mappend\u001b[0m\u001b[1;33m(\u001b[0m\u001b[0mcv_results\u001b[0m\u001b[1;33m)\u001b[0m\u001b[1;33m\u001b[0m\u001b[0m\n\u001b[0;32m     10\u001b[0m         \u001b[0mnames\u001b[0m\u001b[1;33m.\u001b[0m\u001b[0mappend\u001b[0m\u001b[1;33m(\u001b[0m\u001b[0mname\u001b[0m\u001b[1;33m)\u001b[0m\u001b[1;33m\u001b[0m\u001b[0m\n",
      "\u001b[1;32mc:\\users\\binks\\desktop\\quantamental\\quantenv\\lib\\site-packages\\sklearn\\utils\\validation.py\u001b[0m in \u001b[0;36minner_f\u001b[1;34m(*args, **kwargs)\u001b[0m\n\u001b[0;32m     71\u001b[0m                           FutureWarning)\n\u001b[0;32m     72\u001b[0m         \u001b[0mkwargs\u001b[0m\u001b[1;33m.\u001b[0m\u001b[0mupdate\u001b[0m\u001b[1;33m(\u001b[0m\u001b[1;33m{\u001b[0m\u001b[0mk\u001b[0m\u001b[1;33m:\u001b[0m \u001b[0marg\u001b[0m \u001b[1;32mfor\u001b[0m \u001b[0mk\u001b[0m\u001b[1;33m,\u001b[0m \u001b[0marg\u001b[0m \u001b[1;32min\u001b[0m \u001b[0mzip\u001b[0m\u001b[1;33m(\u001b[0m\u001b[0msig\u001b[0m\u001b[1;33m.\u001b[0m\u001b[0mparameters\u001b[0m\u001b[1;33m,\u001b[0m \u001b[0margs\u001b[0m\u001b[1;33m)\u001b[0m\u001b[1;33m}\u001b[0m\u001b[1;33m)\u001b[0m\u001b[1;33m\u001b[0m\u001b[0m\n\u001b[1;32m---> 73\u001b[1;33m         \u001b[1;32mreturn\u001b[0m \u001b[0mf\u001b[0m\u001b[1;33m(\u001b[0m\u001b[1;33m**\u001b[0m\u001b[0mkwargs\u001b[0m\u001b[1;33m)\u001b[0m\u001b[1;33m\u001b[0m\u001b[0m\n\u001b[0m\u001b[0;32m     74\u001b[0m     \u001b[1;32mreturn\u001b[0m \u001b[0minner_f\u001b[0m\u001b[1;33m\u001b[0m\u001b[0m\n\u001b[0;32m     75\u001b[0m \u001b[1;33m\u001b[0m\u001b[0m\n",
      "\u001b[1;32mc:\\users\\binks\\desktop\\quantamental\\quantenv\\lib\\site-packages\\sklearn\\model_selection\\_validation.py\u001b[0m in \u001b[0;36mcross_val_score\u001b[1;34m(estimator, X, y, groups, scoring, cv, n_jobs, verbose, fit_params, pre_dispatch, error_score)\u001b[0m\n\u001b[0;32m    404\u001b[0m                                 \u001b[0mfit_params\u001b[0m\u001b[1;33m=\u001b[0m\u001b[0mfit_params\u001b[0m\u001b[1;33m,\u001b[0m\u001b[1;33m\u001b[0m\u001b[0m\n\u001b[0;32m    405\u001b[0m                                 \u001b[0mpre_dispatch\u001b[0m\u001b[1;33m=\u001b[0m\u001b[0mpre_dispatch\u001b[0m\u001b[1;33m,\u001b[0m\u001b[1;33m\u001b[0m\u001b[0m\n\u001b[1;32m--> 406\u001b[1;33m                                 error_score=error_score)\n\u001b[0m\u001b[0;32m    407\u001b[0m     \u001b[1;32mreturn\u001b[0m \u001b[0mcv_results\u001b[0m\u001b[1;33m[\u001b[0m\u001b[1;34m'test_score'\u001b[0m\u001b[1;33m]\u001b[0m\u001b[1;33m\u001b[0m\u001b[0m\n\u001b[0;32m    408\u001b[0m \u001b[1;33m\u001b[0m\u001b[0m\n",
      "\u001b[1;32mc:\\users\\binks\\desktop\\quantamental\\quantenv\\lib\\site-packages\\sklearn\\utils\\validation.py\u001b[0m in \u001b[0;36minner_f\u001b[1;34m(*args, **kwargs)\u001b[0m\n\u001b[0;32m     71\u001b[0m                           FutureWarning)\n\u001b[0;32m     72\u001b[0m         \u001b[0mkwargs\u001b[0m\u001b[1;33m.\u001b[0m\u001b[0mupdate\u001b[0m\u001b[1;33m(\u001b[0m\u001b[1;33m{\u001b[0m\u001b[0mk\u001b[0m\u001b[1;33m:\u001b[0m \u001b[0marg\u001b[0m \u001b[1;32mfor\u001b[0m \u001b[0mk\u001b[0m\u001b[1;33m,\u001b[0m \u001b[0marg\u001b[0m \u001b[1;32min\u001b[0m \u001b[0mzip\u001b[0m\u001b[1;33m(\u001b[0m\u001b[0msig\u001b[0m\u001b[1;33m.\u001b[0m\u001b[0mparameters\u001b[0m\u001b[1;33m,\u001b[0m \u001b[0margs\u001b[0m\u001b[1;33m)\u001b[0m\u001b[1;33m}\u001b[0m\u001b[1;33m)\u001b[0m\u001b[1;33m\u001b[0m\u001b[0m\n\u001b[1;32m---> 73\u001b[1;33m         \u001b[1;32mreturn\u001b[0m \u001b[0mf\u001b[0m\u001b[1;33m(\u001b[0m\u001b[1;33m**\u001b[0m\u001b[0mkwargs\u001b[0m\u001b[1;33m)\u001b[0m\u001b[1;33m\u001b[0m\u001b[0m\n\u001b[0m\u001b[0;32m     74\u001b[0m     \u001b[1;32mreturn\u001b[0m \u001b[0minner_f\u001b[0m\u001b[1;33m\u001b[0m\u001b[0m\n\u001b[0;32m     75\u001b[0m \u001b[1;33m\u001b[0m\u001b[0m\n",
      "\u001b[1;32mc:\\users\\binks\\desktop\\quantamental\\quantenv\\lib\\site-packages\\sklearn\\model_selection\\_validation.py\u001b[0m in \u001b[0;36mcross_validate\u001b[1;34m(estimator, X, y, groups, scoring, cv, n_jobs, verbose, fit_params, pre_dispatch, return_train_score, return_estimator, error_score)\u001b[0m\n\u001b[0;32m    246\u001b[0m             \u001b[0mreturn_times\u001b[0m\u001b[1;33m=\u001b[0m\u001b[1;32mTrue\u001b[0m\u001b[1;33m,\u001b[0m \u001b[0mreturn_estimator\u001b[0m\u001b[1;33m=\u001b[0m\u001b[0mreturn_estimator\u001b[0m\u001b[1;33m,\u001b[0m\u001b[1;33m\u001b[0m\u001b[0m\n\u001b[0;32m    247\u001b[0m             error_score=error_score)\n\u001b[1;32m--> 248\u001b[1;33m         for train, test in cv.split(X, y, groups))\n\u001b[0m\u001b[0;32m    249\u001b[0m \u001b[1;33m\u001b[0m\u001b[0m\n\u001b[0;32m    250\u001b[0m     \u001b[0mzipped_scores\u001b[0m \u001b[1;33m=\u001b[0m \u001b[0mlist\u001b[0m\u001b[1;33m(\u001b[0m\u001b[0mzip\u001b[0m\u001b[1;33m(\u001b[0m\u001b[1;33m*\u001b[0m\u001b[0mscores\u001b[0m\u001b[1;33m)\u001b[0m\u001b[1;33m)\u001b[0m\u001b[1;33m\u001b[0m\u001b[0m\n",
      "\u001b[1;32mc:\\users\\binks\\desktop\\quantamental\\quantenv\\lib\\site-packages\\joblib\\parallel.py\u001b[0m in \u001b[0;36m__call__\u001b[1;34m(self, iterable)\u001b[0m\n\u001b[0;32m   1027\u001b[0m             \u001b[1;31m# remaining jobs.\u001b[0m\u001b[1;33m\u001b[0m\u001b[1;33m\u001b[0m\u001b[0m\n\u001b[0;32m   1028\u001b[0m             \u001b[0mself\u001b[0m\u001b[1;33m.\u001b[0m\u001b[0m_iterating\u001b[0m \u001b[1;33m=\u001b[0m \u001b[1;32mFalse\u001b[0m\u001b[1;33m\u001b[0m\u001b[0m\n\u001b[1;32m-> 1029\u001b[1;33m             \u001b[1;32mif\u001b[0m \u001b[0mself\u001b[0m\u001b[1;33m.\u001b[0m\u001b[0mdispatch_one_batch\u001b[0m\u001b[1;33m(\u001b[0m\u001b[0miterator\u001b[0m\u001b[1;33m)\u001b[0m\u001b[1;33m:\u001b[0m\u001b[1;33m\u001b[0m\u001b[0m\n\u001b[0m\u001b[0;32m   1030\u001b[0m                 \u001b[0mself\u001b[0m\u001b[1;33m.\u001b[0m\u001b[0m_iterating\u001b[0m \u001b[1;33m=\u001b[0m \u001b[0mself\u001b[0m\u001b[1;33m.\u001b[0m\u001b[0m_original_iterator\u001b[0m \u001b[1;32mis\u001b[0m \u001b[1;32mnot\u001b[0m \u001b[1;32mNone\u001b[0m\u001b[1;33m\u001b[0m\u001b[0m\n\u001b[0;32m   1031\u001b[0m \u001b[1;33m\u001b[0m\u001b[0m\n",
      "\u001b[1;32mc:\\users\\binks\\desktop\\quantamental\\quantenv\\lib\\site-packages\\joblib\\parallel.py\u001b[0m in \u001b[0;36mdispatch_one_batch\u001b[1;34m(self, iterator)\u001b[0m\n\u001b[0;32m    817\u001b[0m                 \u001b[0mbig_batch_size\u001b[0m \u001b[1;33m=\u001b[0m \u001b[0mbatch_size\u001b[0m \u001b[1;33m*\u001b[0m \u001b[0mn_jobs\u001b[0m\u001b[1;33m\u001b[0m\u001b[0m\n\u001b[0;32m    818\u001b[0m \u001b[1;33m\u001b[0m\u001b[0m\n\u001b[1;32m--> 819\u001b[1;33m                 \u001b[0mislice\u001b[0m \u001b[1;33m=\u001b[0m \u001b[0mlist\u001b[0m\u001b[1;33m(\u001b[0m\u001b[0mitertools\u001b[0m\u001b[1;33m.\u001b[0m\u001b[0mislice\u001b[0m\u001b[1;33m(\u001b[0m\u001b[0miterator\u001b[0m\u001b[1;33m,\u001b[0m \u001b[0mbig_batch_size\u001b[0m\u001b[1;33m)\u001b[0m\u001b[1;33m)\u001b[0m\u001b[1;33m\u001b[0m\u001b[0m\n\u001b[0m\u001b[0;32m    820\u001b[0m                 \u001b[1;32mif\u001b[0m \u001b[0mlen\u001b[0m\u001b[1;33m(\u001b[0m\u001b[0mislice\u001b[0m\u001b[1;33m)\u001b[0m \u001b[1;33m==\u001b[0m \u001b[1;36m0\u001b[0m\u001b[1;33m:\u001b[0m\u001b[1;33m\u001b[0m\u001b[0m\n\u001b[0;32m    821\u001b[0m                     \u001b[1;32mreturn\u001b[0m \u001b[1;32mFalse\u001b[0m\u001b[1;33m\u001b[0m\u001b[0m\n",
      "\u001b[1;32mc:\\users\\binks\\desktop\\quantamental\\quantenv\\lib\\site-packages\\sklearn\\model_selection\\_validation.py\u001b[0m in \u001b[0;36m<genexpr>\u001b[1;34m(.0)\u001b[0m\n\u001b[0;32m    246\u001b[0m             \u001b[0mreturn_times\u001b[0m\u001b[1;33m=\u001b[0m\u001b[1;32mTrue\u001b[0m\u001b[1;33m,\u001b[0m \u001b[0mreturn_estimator\u001b[0m\u001b[1;33m=\u001b[0m\u001b[0mreturn_estimator\u001b[0m\u001b[1;33m,\u001b[0m\u001b[1;33m\u001b[0m\u001b[0m\n\u001b[0;32m    247\u001b[0m             error_score=error_score)\n\u001b[1;32m--> 248\u001b[1;33m         for train, test in cv.split(X, y, groups))\n\u001b[0m\u001b[0;32m    249\u001b[0m \u001b[1;33m\u001b[0m\u001b[0m\n\u001b[0;32m    250\u001b[0m     \u001b[0mzipped_scores\u001b[0m \u001b[1;33m=\u001b[0m \u001b[0mlist\u001b[0m\u001b[1;33m(\u001b[0m\u001b[0mzip\u001b[0m\u001b[1;33m(\u001b[0m\u001b[1;33m*\u001b[0m\u001b[0mscores\u001b[0m\u001b[1;33m)\u001b[0m\u001b[1;33m)\u001b[0m\u001b[1;33m\u001b[0m\u001b[0m\n",
      "\u001b[1;32mc:\\users\\binks\\desktop\\quantamental\\quantenv\\lib\\site-packages\\sklearn\\utils\\validation.py\u001b[0m in \u001b[0;36minner_f\u001b[1;34m(*args, **kwargs)\u001b[0m\n\u001b[0;32m     71\u001b[0m                           FutureWarning)\n\u001b[0;32m     72\u001b[0m         \u001b[0mkwargs\u001b[0m\u001b[1;33m.\u001b[0m\u001b[0mupdate\u001b[0m\u001b[1;33m(\u001b[0m\u001b[1;33m{\u001b[0m\u001b[0mk\u001b[0m\u001b[1;33m:\u001b[0m \u001b[0marg\u001b[0m \u001b[1;32mfor\u001b[0m \u001b[0mk\u001b[0m\u001b[1;33m,\u001b[0m \u001b[0marg\u001b[0m \u001b[1;32min\u001b[0m \u001b[0mzip\u001b[0m\u001b[1;33m(\u001b[0m\u001b[0msig\u001b[0m\u001b[1;33m.\u001b[0m\u001b[0mparameters\u001b[0m\u001b[1;33m,\u001b[0m \u001b[0margs\u001b[0m\u001b[1;33m)\u001b[0m\u001b[1;33m}\u001b[0m\u001b[1;33m)\u001b[0m\u001b[1;33m\u001b[0m\u001b[0m\n\u001b[1;32m---> 73\u001b[1;33m         \u001b[1;32mreturn\u001b[0m \u001b[0mf\u001b[0m\u001b[1;33m(\u001b[0m\u001b[1;33m**\u001b[0m\u001b[0mkwargs\u001b[0m\u001b[1;33m)\u001b[0m\u001b[1;33m\u001b[0m\u001b[0m\n\u001b[0m\u001b[0;32m     74\u001b[0m     \u001b[1;32mreturn\u001b[0m \u001b[0minner_f\u001b[0m\u001b[1;33m\u001b[0m\u001b[0m\n\u001b[0;32m     75\u001b[0m \u001b[1;33m\u001b[0m\u001b[0m\n",
      "\u001b[1;32mc:\\users\\binks\\desktop\\quantamental\\quantenv\\lib\\site-packages\\sklearn\\base.py\u001b[0m in \u001b[0;36mclone\u001b[1;34m(estimator, safe)\u001b[0m\n\u001b[0;32m     73\u001b[0m             \u001b[1;32mif\u001b[0m \u001b[0misinstance\u001b[0m\u001b[1;33m(\u001b[0m\u001b[0mestimator\u001b[0m\u001b[1;33m,\u001b[0m \u001b[0mtype\u001b[0m\u001b[1;33m)\u001b[0m\u001b[1;33m:\u001b[0m\u001b[1;33m\u001b[0m\u001b[0m\n\u001b[0;32m     74\u001b[0m                 raise TypeError(\"Cannot clone object. \" +\n\u001b[1;32m---> 75\u001b[1;33m                                 \u001b[1;34m\"You should provide an instance of \"\u001b[0m \u001b[1;33m+\u001b[0m\u001b[1;33m\u001b[0m\u001b[0m\n\u001b[0m\u001b[0;32m     76\u001b[0m                                 \"scikit-learn estimator instead of a class.\")\n\u001b[0;32m     77\u001b[0m             \u001b[1;32melse\u001b[0m\u001b[1;33m:\u001b[0m\u001b[1;33m\u001b[0m\u001b[0m\n",
      "\u001b[1;31mTypeError\u001b[0m: Cannot clone object. You should provide an instance of scikit-learn estimator instead of a class."
     ]
    }
   ],
   "source": [
    "models = []\n",
    "models.append(('LR', LinearRegression))\n",
    "# Evaluate dos modelos\n",
    "results = []\n",
    "names = []\n",
    "k_fold = KFold(n_splits=10)\n",
    "for name, model in models:\n",
    "\tcv_results = cross_val_score(model, X_train, Y_train, cv=k_fold)\n",
    "\tresults.append(cv_results)\n",
    "\tnames.append(name)\n",
    "\tprint('%s: %f (%f)' % (name, cv_results.mean(), cv_results.std()))"
   ]
  },
  {
   "cell_type": "code",
   "execution_count": 165,
   "metadata": {},
   "outputs": [
    {
     "data": {
      "text/plain": [
       "array([57.6  , 69.62 , 38.13 , 71.15 , 42.09 , 47.18 , 41.98 , 58.87 ,\n",
       "       73.86 , 46.59 , 68.94 , 31.235, 51.79 , 55.43 , 36.69 , 46.8  ,\n",
       "       40.32 , 72.26 , 51.65 , 39.36 , 61.09 , 56.21 , 50.03 , 73.05 ,\n",
       "       41.615, 46.44 , 47.   , 52.48 , 49.83 , 57.67 , 36.885, 37.75 ,\n",
       "       71.21 , 67.71 , 47.61 , 73.3  , 37.175, 32.39 , 75.31 , 56.53 ,\n",
       "       46.86 , 69.3  , 33.32 , 47.59 , 47.58 , 37.08 , 73.16 , 70.   ,\n",
       "       37.2  , 47.13 , 46.76 , 37.16 , 86.38 , 57.6  , 38.41 , 77.49 ,\n",
       "       47.27 , 44.15 , 52.055, 40.47 , 45.48 , 69.84 , 54.71 , 39.54 ,\n",
       "       45.34 , 72.79 , 56.81 , 44.87 , 39.83 , 70.1  , 65.68 , 45.26 ,\n",
       "       54.21 , 47.47 , 57.82 , 58.7  , 68.77 , 37.36 , 76.42 , 67.69 ,\n",
       "       52.35 , 59.65 , 72.7  , 44.08 , 48.74 , 73.87 , 43.53 , 49.94 ,\n",
       "       72.68 , 57.56 , 54.92 , 47.59 , 83.93 , 70.27 , 62.3  , 77.12 ,\n",
       "       61.01 , 77.59 , 60.86 , 68.57 , 46.9  , 59.87 , 55.05 , 56.21 ,\n",
       "       55.82 , 41.695, 39.69 , 72.5  , 57.62 , 82.53 , 51.22 , 57.53 ,\n",
       "       48.14 , 65.71 , 35.82 , 64.93 , 47.51 , 43.73 , 42.74 , 33.64 ,\n",
       "       45.43 , 57.59 , 43.22 , 46.04 , 65.78 , 47.19 , 47.33 , 73.61 ,\n",
       "       60.47 , 43.98 , 68.46 , 47.42 , 47.   , 56.39 , 78.86 , 52.78 ,\n",
       "       53.24 , 77.65 , 45.57 , 37.47 , 64.   , 40.79 , 51.59 , 32.505,\n",
       "       72.4  , 54.46 , 51.05 , 55.21 , 45.54 , 74.94 , 55.05 , 55.7  ,\n",
       "       36.35 , 47.77 , 33.88 , 73.04 , 38.11 , 54.25 , 53.94 , 48.24 ,\n",
       "       36.86 , 57.61 , 46.05 , 46.62 , 43.88 , 43.52 , 74.69 , 36.52 ,\n",
       "       44.08 , 66.4  , 52.59 , 47.06 , 69.9  , 36.8  , 71.95 , 64.36 ,\n",
       "       45.53 , 46.92 , 46.23 , 49.44 , 41.72 , 40.34 , 44.88 , 51.89 ,\n",
       "       55.57 , 51.83 , 73.65 , 37.6  , 46.7  , 83.87 , 52.19 , 57.25 ,\n",
       "       42.5  , 72.15 , 70.65 , 64.49 , 68.45 , 62.98 , 48.22 , 72.69 ,\n",
       "       38.05 , 34.96 , 55.36 , 73.4  , 46.88 , 37.4  , 73.85 , 41.84 ,\n",
       "       49.78 , 36.64 , 56.58 , 64.87 , 59.25 , 46.9  , 43.29 , 48.42 ,\n",
       "       46.49 , 38.18 , 46.92 , 46.78 , 72.49 , 47.86 , 44.4  , 50.32 ,\n",
       "       50.94 , 70.32 , 43.65 , 43.09 , 57.42 , 48.43 , 43.58 , 54.8  ,\n",
       "       31.88 , 54.19 , 55.95 , 64.87 , 62.7  , 46.95 , 38.   , 64.62 ,\n",
       "       34.64 , 40.4  , 44.24 , 51.02 , 77.61 , 46.95 , 46.74 , 64.25 ,\n",
       "       45.15 , 49.155, 46.84 , 39.86 , 84.16 , 63.52 , 42.985, 63.19 ,\n",
       "       49.28 , 74.41 , 75.21 , 57.67 , 83.72 , 45.005, 54.66 , 44.27 ,\n",
       "       44.69 , 74.05 , 35.78 , 42.03 , 37.62 , 70.26 , 56.97 , 45.91 ,\n",
       "       48.01 , 36.25 , 39.75 , 54.06 , 84.56 , 55.65 , 42.88 , 37.89 ,\n",
       "       72.47 , 60.4  , 37.57 , 46.13 , 45.17 , 54.13 , 74.61 , 35.52 ,\n",
       "       35.53 , 41.27 , 71.77 , 38.705, 57.64 , 47.45 , 50.39 , 53.17 ,\n",
       "       41.35 , 37.98 , 83.81 , 53.32 , 57.89 , 47.2  , 33.07 , 32.74 ,\n",
       "       62.99 , 37.29 , 52.33 , 65.56 , 82.98 , 45.76 , 54.31 , 44.61 ,\n",
       "       64.21 , 45.97 , 44.09 , 63.98 , 45.83 , 64.27 , 44.2  , 41.685,\n",
       "       45.955, 41.01 , 43.34 , 69.96 , 60.53 , 39.97 , 55.78 , 85.52 ,\n",
       "       49.46 , 53.98 , 57.76 , 60.63 , 50.39 , 44.08 , 44.835, 55.48 ,\n",
       "       33.86 , 73.26 , 37.51 , 57.96 , 42.36 , 36.38 , 57.8  , 46.76 ,\n",
       "       56.92 , 62.3  , 39.68 , 36.66 , 53.69 , 40.01 , 45.54 , 59.43 ,\n",
       "       37.22 , 63.24 , 53.49 , 46.24 , 57.05 , 69.8  , 34.45 , 60.1  ,\n",
       "       35.57 , 43.36 , 40.01 , 65.04 , 40.97 , 38.021, 49.87 , 42.45 ,\n",
       "       50.79 , 41.48 , 46.28 , 45.475, 43.63 , 43.885, 41.19 , 32.801,\n",
       "       63.58 , 34.49 , 69.41 , 57.66 , 50.54 , 47.02 , 69.   , 32.69 ,\n",
       "       43.9  , 41.5  , 78.83 , 41.46 , 53.86 , 68.43 , 57.44 , 72.78 ,\n",
       "       43.48 , 37.86 , 43.11 , 35.73 , 72.39 , 50.5  , 39.91 , 38.36 ,\n",
       "       37.78 , 54.16 , 31.655, 69.98 , 58.71 , 59.2  , 73.98 , 65.29 ,\n",
       "       48.72 , 53.   , 53.74 , 51.08 , 42.61 , 41.28 , 41.545, 58.3  ,\n",
       "       42.66 , 73.59 , 57.24 , 46.24 , 47.45 , 39.209, 40.655, 43.93 ,\n",
       "       44.055, 54.05 , 47.75 , 50.56 , 35.405, 53.54 , 65.1  , 43.44 ,\n",
       "       57.25 , 72.82 , 57.39 , 60.17 , 53.51 , 60.42 , 65.03 , 75.44 ,\n",
       "       51.62 , 46.61 , 45.9  , 83.87 , 43.91 , 43.055, 40.47 , 49.71 ,\n",
       "       76.   , 69.99 , 63.62 , 63.17 , 35.93 , 62.3  , 37.9  , 51.18 ,\n",
       "       53.36 , 42.36 , 41.745, 46.355, 63.68 , 54.42 , 69.91 , 43.87 ,\n",
       "       69.41 , 46.41 , 43.52 , 54.38 , 41.53 , 55.81 , 43.08 , 50.81 ,\n",
       "       46.14 , 36.055, 44.25 , 85.35 , 43.04 , 65.47 , 42.45 , 42.41 ,\n",
       "       53.85 , 64.62 , 83.26 , 44.5  , 33.27 , 39.43 , 46.62 , 55.8  ,\n",
       "       40.72 , 65.48 , 52.87 , 47.66 , 67.53 , 84.05 , 64.72 , 36.76 ,\n",
       "       41.67 , 46.325, 47.35 , 69.78 , 52.42 , 37.42 , 39.94 , 85.83 ,\n",
       "       37.47 , 33.76 , 36.48 , 42.6  , 51.38 , 43.87 , 46.36 , 62.68 ,\n",
       "       54.35 , 47.01 , 46.73 , 44.88 , 74.01 , 52.05 , 70.41 , 42.255,\n",
       "       74.76 , 40.51 , 45.91 , 69.21 , 74.19 , 37.41 , 61.37 , 47.44 ,\n",
       "       55.12 , 37.61 , 53.97 , 52.   , 58.04 , 38.31 , 84.09 , 56.26 ,\n",
       "       69.08 , 38.15 , 72.4  , 31.195, 56.9  , 48.03 , 52.29 , 48.7  ,\n",
       "       56.55 , 72.28 , 42.635, 39.64 , 48.64 , 65.39 , 65.55 , 85.5  ,\n",
       "       52.17 , 44.445, 35.525, 53.59 , 47.75 , 56.57 , 48.46 , 43.28 ,\n",
       "       44.61 , 47.88 , 47.23 , 64.62 , 39.82 , 33.72 , 53.765, 57.95 ,\n",
       "       69.46 , 70.87 , 53.09 , 42.905, 40.3  , 62.17 , 46.63 , 75.16 ,\n",
       "       55.67 , 73.6  , 41.87 , 46.85 , 38.27 , 42.85 , 40.42 , 46.68 ,\n",
       "       50.13 , 46.44 , 42.16 , 62.58 , 38.31 , 40.16 , 38.155, 71.41 ,\n",
       "       52.1  , 57.42 , 46.09 , 57.11 , 41.82 , 46.6  , 46.76 , 40.12 ,\n",
       "       51.09 , 48.89 , 53.   , 85.4  , 44.79 , 42.86 , 52.11 , 45.74 ,\n",
       "       72.52 , 44.37 , 50.51 , 59.02 , 55.59 , 74.22 , 44.52 , 40.87 ,\n",
       "       39.69 , 41.42 , 42.25 , 43.9  , 40.29 , 64.73 , 46.67 , 55.35 ,\n",
       "       64.23 , 58.06 , 85.72 , 73.16 , 74.77 , 60.64 , 72.83 , 36.41 ,\n",
       "       55.14 , 37.08 , 70.27 , 52.12 , 40.   , 84.17 , 43.16 , 53.96 ,\n",
       "       84.47 , 68.27 , 59.21 , 58.02 , 36.03 , 45.91 , 57.46 , 45.65 ,\n",
       "       84.05 , 37.841, 58.2  , 42.9  , 36.13 , 85.71 , 51.44 , 45.09 ,\n",
       "       57.22 , 42.71 , 46.11 , 50.61 , 46.36 , 35.94 , 57.66 , 37.61 ,\n",
       "       33.3  , 41.99 , 51.82 , 63.54 , 39.06 , 52.17 , 81.08 , 53.11 ,\n",
       "       43.94 , 34.92 , 50.16 , 36.56 , 39.27 , 48.45 , 44.83 , 34.13 ,\n",
       "       44.38 , 53.7  , 36.74 , 82.78 , 45.26 , 45.02 , 59.95 , 37.78 ,\n",
       "       77.91 , 85.23 , 54.07 , 52.64 , 45.35 , 54.15 , 62.84 , 38.45 ,\n",
       "       47.87 , 41.38 , 48.78 , 47.17 , 64.99 , 46.72 , 68.81 , 43.23 ,\n",
       "       54.65 , 63.68 , 52.97 , 44.39 , 47.37 , 76.29 , 49.61 , 43.855,\n",
       "       52.32 , 44.53 , 74.49 , 47.57 , 33.92 , 57.43 , 64.57 , 47.6  ,\n",
       "       45.16 , 60.22 , 41.65 , 45.97 , 40.33 , 47.62 , 65.48 , 52.04 ,\n",
       "       52.3  , 54.71 , 60.35 , 52.95 , 41.78 , 84.88 , 64.95 , 84.14 ,\n",
       "       78.76 , 43.5  , 68.49 , 43.37 , 41.65 , 56.76 , 54.2  , 48.84 ,\n",
       "       40.19 , 74.77 , 74.68 , 62.74 , 51.79 , 52.16 , 50.88 , 65.23 ,\n",
       "       46.62 , 45.85 , 71.76 , 52.03 , 33.58 , 39.425, 41.42 , 65.86 ,\n",
       "       83.89 , 55.22 , 39.6  , 47.52 , 50.99 , 41.68 , 46.66 , 62.5  ,\n",
       "       78.63 , 63.43 , 52.13 , 46.56 , 64.06 , 49.69 , 56.68 , 47.32 ,\n",
       "       38.02 , 63.34 , 83.18 , 45.65 , 73.94 , 46.74 , 54.98 , 55.09 ,\n",
       "       41.11 , 40.34 , 49.06 , 56.46 , 45.94 , 51.17 , 39.36 , 64.75 ,\n",
       "       65.73 , 62.53 , 64.93 , 44.03 , 32.93 , 46.41 , 36.17 , 41.8  ,\n",
       "       84.69 , 58.03 , 55.91 , 84.27 , 61.12 , 57.4  , 64.52 , 46.89 ,\n",
       "       51.17 , 36.8  , 46.68 , 85.51 , 39.8  , 45.76 , 53.93 , 44.4  ,\n",
       "       64.98 , 52.1  , 69.31 , 56.31 , 44.95 , 58.17 , 55.23 , 51.64 ,\n",
       "       47.81 , 67.48 , 39.75 , 72.15 , 33.01 , 41.23 , 32.455, 64.4  ,\n",
       "       52.65 , 83.18 , 41.68 , 61.   , 68.93 , 43.48 , 53.69 , 45.65 ,\n",
       "       52.84 , 47.58 , 52.58 , 56.73 , 41.9  , 48.08 , 44.3  , 62.58 ,\n",
       "       47.695, 75.97 , 39.79 , 58.1  , 72.72 , 54.83 , 54.25 , 40.29 ,\n",
       "       49.9  , 44.96 , 65.53 , 45.62 , 65.5  , 41.6  , 43.07 , 57.89 ,\n",
       "       37.82 , 40.99 , 70.53 , 62.61 , 51.38 , 65.73 , 43.2  , 83.2  ])"
      ]
     },
     "execution_count": 165,
     "metadata": {},
     "output_type": "execute_result"
    }
   ],
   "source": [
    "Y_train"
   ]
  },
  {
   "cell_type": "code",
   "execution_count": 132,
   "metadata": {},
   "outputs": [
    {
     "data": {
      "text/plain": [
       "array([31.88 , 31.195, 31.235, ..., 85.4  , 85.71 , 85.72 ])"
      ]
     },
     "execution_count": 132,
     "metadata": {},
     "output_type": "execute_result"
    }
   ],
   "source": [
    "y"
   ]
  },
  {
   "cell_type": "code",
   "execution_count": null,
   "metadata": {},
   "outputs": [],
   "source": []
  }
 ],
 "metadata": {
  "kernelspec": {
   "display_name": "Python 3",
   "language": "python",
   "name": "python3"
  },
  "language_info": {
   "codemirror_mode": {
    "name": "ipython",
    "version": 3
   },
   "file_extension": ".py",
   "mimetype": "text/x-python",
   "name": "python",
   "nbconvert_exporter": "python",
   "pygments_lexer": "ipython3",
   "version": "3.7.0"
  }
 },
 "nbformat": 4,
 "nbformat_minor": 4
}
