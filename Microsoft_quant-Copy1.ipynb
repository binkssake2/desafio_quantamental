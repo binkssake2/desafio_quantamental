{
 "cells": [
  {
   "cell_type": "code",
   "execution_count": 1,
   "metadata": {},
   "outputs": [],
   "source": [
    "import quandl\n",
    "import pandas as pd\n",
    "import quandl as q\n",
    "import numpy as np\n",
    "import matplotlib.pyplot as plt\n",
    "quandl.ApiConfig.api_key = \"-qMZRw2S5XascrrTLjF4\""
   ]
  },
  {
   "cell_type": "code",
   "execution_count": 2,
   "metadata": {},
   "outputs": [
    {
     "data": {
      "text/html": [
       "<div>\n",
       "<style scoped>\n",
       "    .dataframe tbody tr th:only-of-type {\n",
       "        vertical-align: middle;\n",
       "    }\n",
       "\n",
       "    .dataframe tbody tr th {\n",
       "        vertical-align: top;\n",
       "    }\n",
       "\n",
       "    .dataframe thead th {\n",
       "        text-align: right;\n",
       "    }\n",
       "</style>\n",
       "<table border=\"1\" class=\"dataframe\">\n",
       "  <thead>\n",
       "    <tr style=\"text-align: right;\">\n",
       "      <th></th>\n",
       "      <th>Open</th>\n",
       "      <th>High</th>\n",
       "      <th>Low</th>\n",
       "      <th>Close</th>\n",
       "      <th>Volume</th>\n",
       "      <th>Dividend</th>\n",
       "      <th>Split</th>\n",
       "      <th>Adj_Open</th>\n",
       "      <th>Adj_High</th>\n",
       "      <th>Adj_Low</th>\n",
       "      <th>Adj_Close</th>\n",
       "      <th>Adj_Volume</th>\n",
       "    </tr>\n",
       "    <tr>\n",
       "      <th>Date</th>\n",
       "      <th></th>\n",
       "      <th></th>\n",
       "      <th></th>\n",
       "      <th></th>\n",
       "      <th></th>\n",
       "      <th></th>\n",
       "      <th></th>\n",
       "      <th></th>\n",
       "      <th></th>\n",
       "      <th></th>\n",
       "      <th></th>\n",
       "      <th></th>\n",
       "    </tr>\n",
       "  </thead>\n",
       "  <tbody>\n",
       "    <tr>\n",
       "      <th>2013-09-03</th>\n",
       "      <td>31.7500</td>\n",
       "      <td>32.07</td>\n",
       "      <td>31.29</td>\n",
       "      <td>31.880</td>\n",
       "      <td>154507000.0</td>\n",
       "      <td>0.0</td>\n",
       "      <td>1.0</td>\n",
       "      <td>27.484005</td>\n",
       "      <td>27.761009</td>\n",
       "      <td>27.085812</td>\n",
       "      <td>27.596538</td>\n",
       "      <td>154507000.0</td>\n",
       "    </tr>\n",
       "    <tr>\n",
       "      <th>2013-09-04</th>\n",
       "      <td>31.3900</td>\n",
       "      <td>31.47</td>\n",
       "      <td>31.11</td>\n",
       "      <td>31.195</td>\n",
       "      <td>142320600.0</td>\n",
       "      <td>0.0</td>\n",
       "      <td>1.0</td>\n",
       "      <td>27.172375</td>\n",
       "      <td>27.241626</td>\n",
       "      <td>26.929997</td>\n",
       "      <td>27.003576</td>\n",
       "      <td>142320600.0</td>\n",
       "    </tr>\n",
       "    <tr>\n",
       "      <th>2013-09-05</th>\n",
       "      <td>31.1000</td>\n",
       "      <td>31.44</td>\n",
       "      <td>30.95</td>\n",
       "      <td>31.235</td>\n",
       "      <td>71644900.0</td>\n",
       "      <td>0.0</td>\n",
       "      <td>1.0</td>\n",
       "      <td>26.921340</td>\n",
       "      <td>27.215657</td>\n",
       "      <td>26.791495</td>\n",
       "      <td>27.038201</td>\n",
       "      <td>71644900.0</td>\n",
       "    </tr>\n",
       "    <tr>\n",
       "      <th>2013-09-06</th>\n",
       "      <td>31.3100</td>\n",
       "      <td>31.39</td>\n",
       "      <td>31.13</td>\n",
       "      <td>31.152</td>\n",
       "      <td>75434900.0</td>\n",
       "      <td>0.0</td>\n",
       "      <td>1.0</td>\n",
       "      <td>27.103124</td>\n",
       "      <td>27.172375</td>\n",
       "      <td>26.947309</td>\n",
       "      <td>26.966354</td>\n",
       "      <td>75434900.0</td>\n",
       "    </tr>\n",
       "    <tr>\n",
       "      <th>2013-09-09</th>\n",
       "      <td>31.2208</td>\n",
       "      <td>31.79</td>\n",
       "      <td>31.20</td>\n",
       "      <td>31.655</td>\n",
       "      <td>49628500.0</td>\n",
       "      <td>0.0</td>\n",
       "      <td>1.0</td>\n",
       "      <td>27.025909</td>\n",
       "      <td>27.518631</td>\n",
       "      <td>27.007904</td>\n",
       "      <td>27.401769</td>\n",
       "      <td>49628500.0</td>\n",
       "    </tr>\n",
       "  </tbody>\n",
       "</table>\n",
       "</div>"
      ],
      "text/plain": [
       "               Open   High    Low   Close       Volume  Dividend  Split  \\\n",
       "Date                                                                      \n",
       "2013-09-03  31.7500  32.07  31.29  31.880  154507000.0       0.0    1.0   \n",
       "2013-09-04  31.3900  31.47  31.11  31.195  142320600.0       0.0    1.0   \n",
       "2013-09-05  31.1000  31.44  30.95  31.235   71644900.0       0.0    1.0   \n",
       "2013-09-06  31.3100  31.39  31.13  31.152   75434900.0       0.0    1.0   \n",
       "2013-09-09  31.2208  31.79  31.20  31.655   49628500.0       0.0    1.0   \n",
       "\n",
       "             Adj_Open   Adj_High    Adj_Low  Adj_Close   Adj_Volume  \n",
       "Date                                                                 \n",
       "2013-09-03  27.484005  27.761009  27.085812  27.596538  154507000.0  \n",
       "2013-09-04  27.172375  27.241626  26.929997  27.003576  142320600.0  \n",
       "2013-09-05  26.921340  27.215657  26.791495  27.038201   71644900.0  \n",
       "2013-09-06  27.103124  27.172375  26.947309  26.966354   75434900.0  \n",
       "2013-09-09  27.025909  27.518631  27.007904  27.401769   49628500.0  "
      ]
     },
     "execution_count": 2,
     "metadata": {},
     "output_type": "execute_result"
    }
   ],
   "source": [
    "#pega os dados da API\n",
    "msft_data = q.get(\"EOD/MSFT\", start_date=\"2010-01-01\", end_date=\"2020-01-01\")\n",
    "msft_data.head()"
   ]
  },
  {
   "cell_type": "code",
   "execution_count": 3,
   "metadata": {
    "scrolled": true
   },
   "outputs": [
    {
     "name": "stdout",
     "output_type": "stream",
     "text": [
      "            Adj_Close\n",
      "Date                 \n",
      "2013-09-03   0.000000\n",
      "2013-09-04  -0.021487\n",
      "2013-09-05   0.001282\n",
      "2013-09-06  -0.002657\n",
      "2013-09-09   0.016147\n",
      "...               ...\n",
      "2017-12-21  -0.000234\n",
      "2017-12-22   0.000117\n",
      "2017-12-26  -0.001286\n",
      "2017-12-27   0.003630\n",
      "2017-12-28   0.000117\n",
      "\n",
      "[1090 rows x 1 columns]\n"
     ]
    }
   ],
   "source": [
    "#retorno diário\n",
    "# chama `Adj Close` para `daily_close`\n",
    "daily_close = msft_data[['Adj_Close']]\n",
    "\n",
    "# retorna a fracao\n",
    "daily_return = daily_close.pct_change()\n",
    "\n",
    "# replaca de NA por 0\n",
    "daily_return.fillna(0, inplace=True)\n",
    "\n",
    "print(daily_return)"
   ]
  },
  {
   "cell_type": "code",
   "execution_count": 4,
   "metadata": {},
   "outputs": [],
   "source": [
    "#media movel 7 dias\n",
    "adj_price = msft_data['Adj_Close']\n",
    "mav = adj_price.rolling(window=15).mean()\n",
    "\n",
    "mav = mav.fillna(27)"
   ]
  },
  {
   "cell_type": "code",
   "execution_count": 5,
   "metadata": {
    "scrolled": true
   },
   "outputs": [
    {
     "name": "stdout",
     "output_type": "stream",
     "text": [
      "Date\n",
      "2017-12-14    80.982311\n",
      "2017-12-15    81.213647\n",
      "2017-12-18    81.375389\n",
      "2017-12-19    81.436606\n",
      "2017-12-20    81.577083\n",
      "2017-12-21    81.662786\n",
      "2017-12-22    81.743335\n",
      "2017-12-26    82.021711\n",
      "2017-12-27    82.287199\n",
      "2017-12-28    82.476650\n",
      "Name: Adj_Close, dtype: float64\n"
     ]
    },
    {
     "data": {
      "text/plain": [
       "<matplotlib.axes._subplots.AxesSubplot at 0x217523e9d68>"
      ]
     },
     "execution_count": 5,
     "metadata": {},
     "output_type": "execute_result"
    },
    {
     "data": {
      "image/png": "[encoded data removed]",
      "text/plain": [
       "<Figure size 432x288 with 1 Axes>"
      ]
     },
     "metadata": {
      "needs_background": "light"
     },
     "output_type": "display_data"
    }
   ],
   "source": [
    "# print mav\n",
    "print(mav[-10:])\n",
    "adj_price.plot()\n",
    "mav.plot()"
   ]
  },
  {
   "cell_type": "code",
   "execution_count": 96,
   "metadata": {},
   "outputs": [],
   "source": [
    "# ARIMA example\n",
    "from statsmodels.tsa.arima_model import ARIMA\n",
    "from random import random\n",
    "# contrived dataset\n",
    "data = adj_price.values\n",
    "# fit model\n",
    "model = ARIMA(data, order=(1, 1, 1))\n",
    "model_fit = model.fit(disp=False)\n",
    "# make prediction\n",
    "pred = []\n",
    "#yhat = model_fit.predict(len(data), len(data), typ='levels')\n",
    "yhat = model_fit.predict(1090, 1100, typ='levels')"
   ]
  },
  {
   "cell_type": "code",
   "execution_count": 98,
   "metadata": {},
   "outputs": [
    {
     "data": {
      "text/plain": [
       "<matplotlib.axes._subplots.AxesSubplot at 0x2175818a198>"
      ]
     },
     "execution_count": 98,
     "metadata": {},
     "output_type": "execute_result"
    },
    {
     "data": {
      "image/png": "[encoded data removed]",
      "text/plain": [
       "<Figure size 432x288 with 1 Axes>"
      ]
     },
     "metadata": {
      "needs_background": "light"
     },
     "output_type": "display_data"
    }
   ],
   "source": [
    "adj_price.plot()"
   ]
  },
  {
   "cell_type": "code",
   "execution_count": 99,
   "metadata": {
    "scrolled": true
   },
   "outputs": [],
   "source": [
    "pred = []\n",
    "for i in range(len(yhat)):\n",
    "    pred.append(yhat)"
   ]
  },
  {
   "cell_type": "code",
   "execution_count": 101,
   "metadata": {},
   "outputs": [
    {
     "data": {
      "text/plain": [
       "82.85555057345542"
      ]
     },
     "execution_count": 101,
     "metadata": {},
     "output_type": "execute_result"
    }
   ],
   "source": [
    "adj_price.values[1089]"
   ]
  },
  {
   "cell_type": "code",
   "execution_count": 150,
   "metadata": {},
   "outputs": [
    {
     "name": "stderr",
     "output_type": "stream",
     "text": [
      "c:\\users\\binks\\desktop\\quantamental\\quantenv\\lib\\site-packages\\statsmodels\\tsa\\kalmanf\\kalmanfilter.py:220: RuntimeWarning: divide by zero encountered in true_divide\n",
      "  Z_mat, R_mat, T_mat)\n",
      "c:\\users\\binks\\desktop\\quantamental\\quantenv\\lib\\site-packages\\statsmodels\\tsa\\tsatools.py:689: RuntimeWarning: overflow encountered in exp\n",
      "  newparams = ((1-np.exp(-params))/(1+np.exp(-params))).copy()\n",
      "c:\\users\\binks\\desktop\\quantamental\\quantenv\\lib\\site-packages\\statsmodels\\tsa\\tsatools.py:689: RuntimeWarning: invalid value encountered in true_divide\n",
      "  newparams = ((1-np.exp(-params))/(1+np.exp(-params))).copy()\n",
      "c:\\users\\binks\\desktop\\quantamental\\quantenv\\lib\\site-packages\\statsmodels\\tsa\\tsatools.py:690: RuntimeWarning: overflow encountered in exp\n",
      "  tmp = ((1-np.exp(-params))/(1+np.exp(-params))).copy()\n",
      "c:\\users\\binks\\desktop\\quantamental\\quantenv\\lib\\site-packages\\statsmodels\\tsa\\tsatools.py:690: RuntimeWarning: invalid value encountered in true_divide\n",
      "  tmp = ((1-np.exp(-params))/(1+np.exp(-params))).copy()\n",
      "c:\\users\\binks\\desktop\\quantamental\\quantenv\\lib\\site-packages\\statsmodels\\base\\model.py:548: HessianInversionWarning: Inverting hessian failed, no bse or cov_params available\n",
      "  'available', HessianInversionWarning)\n"
     ]
    }
   ],
   "source": [
    "# ARIMA example\n",
    "from statsmodels.tsa.arima_model import ARIMA\n",
    "from random import random\n",
    "\n",
    "pred = []\n",
    "for i in range(1,len(adj_price)):\n",
    "    # contrived dataset\n",
    "    data = adj_price.values[:i+30]\n",
    "    # fit model\n",
    "    model = ARIMA(data, order=(1, 1, 1))\n",
    "    model_fit = model.fit(disp=False)\n",
    "    # make prediction\n",
    "    \n",
    "    yhat = model_fit.predict(len(data)-30, len(data)-30, typ='levels')\n",
    "    pred.append(yhat)"
   ]
  },
  {
   "cell_type": "code",
   "execution_count": 154,
   "metadata": {},
   "outputs": [],
   "source": [
    "real = []\n",
    "for i in range(len(adj_price)):\n",
    "    real.append(adj_price[i])\n",
    "#real = real[30:]"
   ]
  },
  {
   "cell_type": "code",
   "execution_count": 163,
   "metadata": {},
   "outputs": [
    {
     "data": {
      "image/png": "[encoded data removed]",
      "text/plain": [
       "<Figure size 432x288 with 1 Axes>"
      ]
     },
     "metadata": {
      "needs_background": "light"
     },
     "output_type": "display_data"
    }
   ],
   "source": [
    "plt.plot(pred)\n",
    "plt.plot(real)\n",
    "pred.append(80)"
   ]
  },
  {
   "cell_type": "code",
   "execution_count": 164,
   "metadata": {},
   "outputs": [
    {
     "data": {
      "text/plain": [
       "0.07287490708705441"
      ]
     },
     "execution_count": 164,
     "metadata": {},
     "output_type": "execute_result"
    }
   ],
   "source": [
    "mean_squared_error(pred,real) "
   ]
  },
  {
   "cell_type": "code",
   "execution_count": 165,
   "metadata": {},
   "outputs": [
    {
     "data": {
      "text/plain": [
       "(array([70.38157166]), 70.35913990150615)"
      ]
     },
     "execution_count": 165,
     "metadata": {},
     "output_type": "execute_result"
    }
   ],
   "source": [
    "pred[1000],real[1000]"
   ]
  },
  {
   "cell_type": "code",
   "execution_count": null,
   "metadata": {},
   "outputs": [],
   "source": []
  }
 ],
 "metadata": {
  "kernelspec": {
   "display_name": "Python 3",
   "language": "python",
   "name": "python3"
  },
  "language_info": {
   "codemirror_mode": {
    "name": "ipython",
    "version": 3
   },
   "file_extension": ".py",
   "mimetype": "text/x-python",
   "name": "python",
   "nbconvert_exporter": "python",
   "pygments_lexer": "ipython3",
   "version": "3.7.0"
  }
 },
 "nbformat": 4,
 "nbformat_minor": 4
}
